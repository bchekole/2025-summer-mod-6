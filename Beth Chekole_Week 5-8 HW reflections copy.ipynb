{
 "cells": [
  {
   "cell_type": "markdown",
   "id": "48a74b5e-5180-4544-86a0-b047a877eb8e",
   "metadata": {},
   "source": [
    "# Week 9 - 12 Reflection\n"
   ]
  },
  {
   "cell_type": "markdown",
   "id": "36855fce",
   "metadata": {},
   "source": [
    "# Homework Reflection 9\n",
    "\n",
    "1. Write some code that will use a simulation to estimate the standard deviation of the coefficient when there is heteroskedasticity.  \n",
    "Compare these standard errors to those found via statsmodels OLS or a similar linear regression model.\n",
    "\n",
    "2. Write some code that will use a simulation to estimate the standard deviation of the coefficient when errors are highly correlated / non-independent.\n",
    "Compare these standard errors to those found via statsmodels OlS or a similar linear regression model.\n",
    "\n",
    "Show that if the correlation between coefficients is high enough, then the estimated standard deviation of the coefficient, using bootstrap errors, \n",
    "might not match that found by a full simulation of the Data Generating Process.  (This can be fixed if you have a huge amount of data for the bootstrap simulation.)\n",
    "\n"
   ]
  },
  {
   "cell_type": "markdown",
   "id": "5c9d1d93",
   "metadata": {},
   "source": [
    "# Homework Reflection 11\n",
    "\n",
    "1. Construct a dataset for an event study where the value, derivative, and second derivative of a trend all change discontinuously (suddenly) after an event.\n",
    "Build a model that tries to decide whether the event is real (has a nonzero effect) using:\n",
    "(a) only the value,\n",
    "(b) the value, derivative, and second derivative.\n",
    "Which of these models is better at detecting and/or quantifying the impact of the event?  (What might \"better\" mean here?)\n",
    "\n",
    "2. Construct a dataset in which there are three groups whose values each increase discontinuously (suddenly) by the same amount at a shared event; they change in parallel\n",
    "over time, but they have different starting values.  Create a model that combines group fixed effects with an event study, as suggested in the online reading.\n",
    "Explain what you did, how the model works, and how it accounts for both baseline differences and the common event effect."
   ]
  }
 ],
 "metadata": {
  "kernelspec": {
   "display_name": "Python 3",
   "language": "python",
   "name": "python3"
  },
  "language_info": {
   "codemirror_mode": {
    "name": "ipython",
    "version": 3
   },
   "file_extension": ".py",
   "mimetype": "text/x-python",
   "name": "python",
   "nbconvert_exporter": "python",
   "pygments_lexer": "ipython3",
   "version": "3.12.1"
  }
 },
 "nbformat": 4,
 "nbformat_minor": 5
}
